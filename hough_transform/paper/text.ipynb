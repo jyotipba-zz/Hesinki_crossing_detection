{
 "cells": [
  {
   "cell_type": "markdown",
   "metadata": {},
   "source": [
    "### <center>Road Marking Monitoring for Smart Cities<center>\n",
    "<center>\n",
    "Alexander Jung$^{1,2}$, Jyoti Prasad Bartaula$^{1}$, Sangam Deuja$^{1}$<br><br>\n",
    "$^{1}$Integrify oy, Helsinki, Finland\n",
    "<br><br>\n",
    "$^{2}$Department of Computer Science, Aalto University, Finland \n",
    "</center>"
   ]
  },
  {
   "cell_type": "markdown",
   "metadata": {},
   "source": [
    "**Abstract**—We study machine learning methods for monitoring\n",
    "the condition of road markings in the city of Helsinki.\n",
    "The monitoring is based on the open geoinformation service\n",
    "https://kartta.hel.fi. This service provides building maps as\n",
    "well as orthophotos which are collected on a regular basis.\n",
    "The resulting methods and datasets are made available\n",
    "openly under https://github.com/alexjungaalto/ResearchPublic/tree/master/RoadMarkingHelsinki."
   ]
  },
  {
   "cell_type": "markdown",
   "metadata": {
    "caption": "Fig. 1. Aerial photograph of a region within the Helsinki city area.",
    "label": "fig:fig_aeriel"
   },
   "source": [
    "#### <center>Introduction</center>\n",
    "Road markings are an important component of the\n",
    "infrastructure in modern cities. Carefully planned road markings\n",
    "allow for traffic management and urban planning. It is important\n",
    "to continuously monitor the condition of road markings in\n",
    "order to schedule road maintenance early on. Having accurate\n",
    "information about the current status of road markings is also\n",
    "instrumental for driver assistance and autonomous driving\n",
    "systems. <br>\n",
    "This paper surveys different methods from machine learning\n",
    "that allow to monitor the condition of road markings in the\n",
    "city region of Helsinki. These methods are fed with data that is\n",
    "available via the open map service https://kartta.hel.fi. Beside\n",
    "aerial photographs (see Figure 1), this service also provides\n",
    "access to city planning information such as building and road\n",
    "maps.\n",
    "\n",
    "<br>\n",
    "<figure>\n",
    "    <img src=\"out.jpg\" alt='missing' width='300'/>\n",
    "    <br>\n",
    "    <figcaption style=\"text-align:center;\">Fig. 1. Aerial photograph of a region within the Helsinki city area.</figcaption>\n",
    "</figure>"
   ]
  },
  {
   "cell_type": "markdown",
   "metadata": {},
   "source": [
    "#### <center>PROBLEM FORMULATION</center>\n",
    "The goal of this study is to develop methods which allow to automatically locate existing road markings in Helsinki city area. \n",
    "<br>\n",
    "<br>\n",
    "<figure>\n",
    "    <img src=\"Layer_Karttasarja.jpg\" alt='missing' width='300' />\n",
    "    <br>\n",
    "    <figcaption style=\"text-align:center;\">Fig. 2. Building map for the same region as depicted in Figure 1</figcaption>\n",
    "</figure>\n",
    "<br>\n",
    "In particular, we aim at developing methods that allow to indicate if a given region of the city area contains a road marking. The efficient localization of existing road\n",
    "markings then allows to analyze their condition using recent\n",
    "aerial photographs available at https://kartta.hel.fi. \n",
    "<br>\n",
    "One approach is to formulate this application as a pixel\n",
    "labelling problem. We consider pixels of an aerial photograph\n",
    "(such as in Figure 1) as data points which we classify as $y = 1$\n",
    "if the pixel depicts a road marking and $y = −1$ if the pixel\n",
    "does not depict a road marking. <br>\n",
    "Another approach is based on using the available information\n",
    "about existing road markings and then apply unsupervised\n",
    "learning methods to learn to distinguish between regions with\n",
    "road markings and those without any road marking."
   ]
  },
  {
   "cell_type": "markdown",
   "metadata": {},
   "source": [
    "#### <center>SUPERVISED METHODS</center>\n",
    "\n",
    "Figure 3 depicts a recent aerial photo of Helsinki city area. \n",
    "We have divided the depicted region evenly into $50 \\times 50$ patches $\\mathcal{P}^{(i,j)}$, for $i,j \\in \\{1,\\ldots,50\\}$. \n",
    "Figure 1 depicts the patch $\\mathcal{P}^{(11,10)}$ obtained for $i=11$ and $j=10$. \n",
    "For the particular patch $\\mathcal{P}^{(11,10)}$, we manually label pixels which depict road markings in \n",
    "the patch $\\mathcal{P}^{(11,10)}$. We indicate the pixels which have been labelled as depicting a pedestrian \n",
    "crossing by red circles in Figure 4 and denote their total number by $m$. \n",
    "\n",
    "In order to predict the label $y$ for a particular pixel we use the red, green and blue components of \n",
    "that pixel as feature vector\n",
    "\\begin{equation} \n",
    "\\mathbf{x} = \\big( \\mbox{red}, \\mbox{green}, \\mbox{blue} \\big)^{T}.\n",
    "\\end{equation} \n",
    "We then train a linear classifier $h^{(\\mathbf{w})} = \\mathbf{w}^{T} \\mathbf{x}$ \n",
    "using logistic regression on a training set which is obtained by randomly selecting \n",
    "$m_{\\rm train} \\approx (67/100) \\times m $ labelled pixels. The remaining labelled pixels \n",
    "are used as the test (validation) set. \n",
    "\n",
    "We evaluate the performance of the classifier \n",
    "\\begin{equation} \n",
    "\\hat{y} ={\\rm sign}  \\big\\{ \\mathbf{w}^{T} \\mathbf{x} \\big \\} = \\begin{cases} 1 & \\mbox{ for } \\mathbf{w}^{T}\\mathbf{x} > 0 \\\\ \n",
    "-1 & \\mbox{ otherwise}\\end{cases}\n",
    "\\end{equation}\n",
    "on the test set which results in the following confusion matrix \n",
    "<table>\n",
    "    <tr>\n",
    "        <th></th>\n",
    "        <th>$y\\!=\\!1$  (road marking)</th>\n",
    "        <th>$y\\!=\\!-1$  (no road marking)</th>\n",
    "    </tr>\n",
    "    <tr>\n",
    "        <th>$\\hat{y}=1$</th>\n",
    "        <td>$0.99$</td>\n",
    "        <td>$0.08$</td>\n",
    "    </tr>\n",
    "    <tr>\n",
    "        <th>$\\hat{y}=-1$</th>\n",
    "        <td>$0.01$</td>\n",
    "        <td>$0.92$</td>\n",
    "    </tr>\n",
    "</table>\n",
    "\n",
    "\n",
    "<figure>\n",
    "    <img src=\"Helsinki_map.jpg\" alt='missing' width='300'/>\n",
    "    <figcaption style=\"text-align:center;\">Fig. 3.Othophoto of Helsinki city region. We divide this region evenly into $50 \\times 50$ rectangular regions (\"patches\").</figcaption>\n",
    "</figure>\n",
    "\n",
    "<figure>\n",
    "    <img src=\"Layer_AerialPhotoLabels.jpg\" alt='missing' width='300'/>\n",
    "    <figcaption style=\"text-align:center;\">Fig. 4. Aerial photograph of a small region (patch) within Helsinki city area. The red circles indicate \n",
    "\tpixels belonging to a pedestrian crossing..</figcaption>\n",
    "</figure>"
   ]
  },
  {
   "cell_type": "markdown",
   "metadata": {},
   "source": [
    "#### <center>UNSUPERVISED METHODS</center>\n",
    "The geographic information service https://kartta.hel.fi allows to download the locations of documented \n",
    "pedestrian crossings (see Figure 5).\n",
    "<br>\n",
    "<br>\n",
    "<figure>\n",
    "    <img src=\"SnapshotPedestrianCrossing.jpg\" alt='missing' width='300'/>\n",
    "    <br>\n",
    "    <figcaption style=\"text-align:center;\">Fig. 5. Aerial photograph of a small region (patch) within Helsinki city area. The red circles indicate \n",
    "\tpixels belonging to a pedestrian crossing.</figcaption>\n",
    "</figure>\n",
    "<br>\n",
    "<br>\n",
    "We have obtained the bounding boxes for $m$ \n",
    "regions that should depict road markings. The resulting $m$ images are represented by their feature \n",
    "vectors $\\mathbf{x}^{(1)},\\ldots,\\mathbf{x}^{(m)}$.<br>\n",
    "<figure>\n",
    "    <img src=\"1.PNG\" alt='missing' width='300'/>\n",
    "    <figcaption style=\"text-align:center;\">Fig. 6. Four regions that have been documented at https://kartta.hel.fi as including a pedestrian crossing.</figcaption>\n",
    "</figure>\n",
    "<br>\n",
    "\n",
    "Each feature vector $\\mathbf{x}^{(i)}$ contains the red, green and blue components of all pixels that \n",
    "constitute the $i$-th image. In order to find anomalous pedestrian crossings we have first applied \n",
    "dimensionality reduction via t-SNE \\cite{tSNEPaper} yielding the new feature vectors $\\mathbf{z}^{(i)} \\in \\mathbb{R}^{2}$ of length two. We then applied the clustering method DBSCAN \\cite{DBSCAN} to organize the set of all images into few clusters. The resulting clustering results in one dominant cluster which contains the majority \n",
    "of images. We declare the images not belonging to the dominant cluster as anomalous images. \n",
    "<figure>\n",
    "    <img src=\"ClusteredImages.jpg\" alt='missing' width='300'/>\n",
    "    <br>\n",
    "    <figcaption style=\"text-align:center;\">Fig. 7. Scatter plot of pedestrian crossing images. The images are represented\n",
    "by the t-SNE vectors z (i) ∈ R 2 . Anomalous images are represented with\n",
    "crosses “×”.</figcaption>\n",
    "</figure>\n",
    "\n",
    "Figure 7 depicts the resulting partitioning of the images into regular and \n",
    "anomalous images. Each anomalous image $i$ is represented by a cross $\\times$ located at the \n",
    "coordinates given by the t-SNE vector $\\mathbf{z}^{(i)}$. The other (non-anomalous) images are \n",
    "represented by a circle $o$. Some examples of images which are declared as anomalous are shown \n",
    "in Figure 8.\n",
    "\n",
    "<figure>\n",
    "    <img src=\"2.PNG\" alt='missing' width='300'/>\n",
    "    <figcaption style=\"text-align:center;\">Fig. 8. Images of pedestrian crossings that have been declared as anomalous.</figcaption>\n",
    "</figure>\n"
   ]
  },
  {
   "cell_type": "code",
   "execution_count": null,
   "metadata": {},
   "outputs": [],
   "source": []
  }
 ],
 "metadata": {
  "kernelspec": {
   "display_name": "Python 3",
   "language": "python",
   "name": "python3"
  },
  "language_info": {
   "codemirror_mode": {
    "name": "ipython",
    "version": 3
   },
   "file_extension": ".py",
   "mimetype": "text/x-python",
   "name": "python",
   "nbconvert_exporter": "python",
   "pygments_lexer": "ipython3",
   "version": "3.7.3"
  },
  "toc": {
   "base_numbering": 1,
   "nav_menu": {},
   "number_sections": false,
   "sideBar": true,
   "skip_h1_title": false,
   "title_cell": "Table of Contents",
   "title_sidebar": "Contents",
   "toc_cell": false,
   "toc_position": {},
   "toc_section_display": true,
   "toc_window_display": false
  },
  "varInspector": {
   "cols": {
    "lenName": 16,
    "lenType": 16,
    "lenVar": 40
   },
   "kernels_config": {
    "python": {
     "delete_cmd_postfix": "",
     "delete_cmd_prefix": "del ",
     "library": "var_list.py",
     "varRefreshCmd": "print(var_dic_list())"
    },
    "r": {
     "delete_cmd_postfix": ") ",
     "delete_cmd_prefix": "rm(",
     "library": "var_list.r",
     "varRefreshCmd": "cat(var_dic_list()) "
    }
   },
   "types_to_exclude": [
    "module",
    "function",
    "builtin_function_or_method",
    "instance",
    "_Feature"
   ],
   "window_display": false
  }
 },
 "nbformat": 4,
 "nbformat_minor": 2
}
