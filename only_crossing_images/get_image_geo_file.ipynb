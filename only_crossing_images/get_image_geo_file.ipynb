{
 "cells": [
  {
   "cell_type": "code",
   "execution_count": null,
   "metadata": {},
   "outputs": [],
   "source": [
    "## Notebook to download pedestrain crossing images from wms server using gpkg file"
   ]
  },
  {
   "cell_type": "code",
   "execution_count": 4,
   "metadata": {},
   "outputs": [],
   "source": [
    "import pandas as pd\n",
    "import geopandas as gpd\n",
    "import matplotlib.pyplot as plt\n",
    "from owslib.wms import WebMapService\n",
    "import io\n",
    "%matplotlib inline"
   ]
  },
  {
   "cell_type": "code",
   "execution_count": 5,
   "metadata": {},
   "outputs": [],
   "source": [
    "crossings = gpd.read_file('klinj_suojatie.gpkg')"
   ]
  },
  {
   "cell_type": "code",
   "execution_count": 6,
   "metadata": {},
   "outputs": [
    {
     "data": {
      "text/plain": [
       "geopandas.geodataframe.GeoDataFrame"
      ]
     },
     "execution_count": 6,
     "metadata": {},
     "output_type": "execute_result"
    }
   ],
   "source": [
    "type(crossings)"
   ]
  },
  {
   "cell_type": "code",
   "execution_count": 7,
   "metadata": {},
   "outputs": [
    {
     "data": {
      "text/plain": [
       "(1393, 7)"
      ]
     },
     "execution_count": 7,
     "metadata": {},
     "output_type": "execute_result"
    }
   ],
   "source": [
    "crossings.shape"
   ]
  },
  {
   "cell_type": "code",
   "execution_count": 8,
   "metadata": {},
   "outputs": [
    {
     "data": {
      "text/html": [
       "<div>\n",
       "<style scoped>\n",
       "    .dataframe tbody tr th:only-of-type {\n",
       "        vertical-align: middle;\n",
       "    }\n",
       "\n",
       "    .dataframe tbody tr th {\n",
       "        vertical-align: top;\n",
       "    }\n",
       "\n",
       "    .dataframe thead th {\n",
       "        text-align: right;\n",
       "    }\n",
       "</style>\n",
       "<table border=\"1\" class=\"dataframe\">\n",
       "  <thead>\n",
       "    <tr style=\"text-align: right;\">\n",
       "      <th></th>\n",
       "      <th>gml_id</th>\n",
       "      <th>id</th>\n",
       "      <th>vaylatyyppi</th>\n",
       "      <th>luokka</th>\n",
       "      <th>featurecode</th>\n",
       "      <th>html_color</th>\n",
       "      <th>geometry</th>\n",
       "    </tr>\n",
       "  </thead>\n",
       "  <tbody>\n",
       "    <tr>\n",
       "      <td>0</td>\n",
       "      <td>klinj_suojatie.16704</td>\n",
       "      <td>None</td>\n",
       "      <td>Suojatie</td>\n",
       "      <td>Suojatiet</td>\n",
       "      <td>12</td>\n",
       "      <td>400040</td>\n",
       "      <td>LINESTRING (25497295.968 6672929.268, 25497296...</td>\n",
       "    </tr>\n",
       "    <tr>\n",
       "      <td>1</td>\n",
       "      <td>klinj_suojatie.16713</td>\n",
       "      <td>None</td>\n",
       "      <td>Suojatie</td>\n",
       "      <td>Suojatiet</td>\n",
       "      <td>12</td>\n",
       "      <td>400040</td>\n",
       "      <td>LINESTRING (25497172.202 6673374.486, 25497179...</td>\n",
       "    </tr>\n",
       "    <tr>\n",
       "      <td>2</td>\n",
       "      <td>klinj_suojatie.16741</td>\n",
       "      <td>None</td>\n",
       "      <td>Suojatie</td>\n",
       "      <td>Suojatiet</td>\n",
       "      <td>12</td>\n",
       "      <td>400040</td>\n",
       "      <td>LINESTRING (25497334.310 6672931.001, 25497334...</td>\n",
       "    </tr>\n",
       "    <tr>\n",
       "      <td>3</td>\n",
       "      <td>klinj_suojatie.16908</td>\n",
       "      <td>None</td>\n",
       "      <td>Suojatie</td>\n",
       "      <td>Suojatiet</td>\n",
       "      <td>12</td>\n",
       "      <td>400040</td>\n",
       "      <td>LINESTRING (25497361.189 6672770.811, 25497354...</td>\n",
       "    </tr>\n",
       "    <tr>\n",
       "      <td>4</td>\n",
       "      <td>klinj_suojatie.16910</td>\n",
       "      <td>None</td>\n",
       "      <td>Suojatie</td>\n",
       "      <td>Suojatiet</td>\n",
       "      <td>12</td>\n",
       "      <td>400040</td>\n",
       "      <td>LINESTRING (25497350.873 6672758.490, 25497343...</td>\n",
       "    </tr>\n",
       "    <tr>\n",
       "      <td>5</td>\n",
       "      <td>klinj_suojatie.16918</td>\n",
       "      <td>None</td>\n",
       "      <td>Suojatie</td>\n",
       "      <td>Suojatiet</td>\n",
       "      <td>12</td>\n",
       "      <td>400040</td>\n",
       "      <td>LINESTRING (25497557.692 6672778.966, 25497551...</td>\n",
       "    </tr>\n",
       "    <tr>\n",
       "      <td>6</td>\n",
       "      <td>klinj_suojatie.16927</td>\n",
       "      <td>None</td>\n",
       "      <td>Suojatie</td>\n",
       "      <td>Suojatiet</td>\n",
       "      <td>12</td>\n",
       "      <td>400040</td>\n",
       "      <td>LINESTRING (25497343.618 6672721.533, 25497337...</td>\n",
       "    </tr>\n",
       "    <tr>\n",
       "      <td>7</td>\n",
       "      <td>klinj_suojatie.16937</td>\n",
       "      <td>None</td>\n",
       "      <td>Suojatie</td>\n",
       "      <td>Suojatiet</td>\n",
       "      <td>12</td>\n",
       "      <td>400040</td>\n",
       "      <td>LINESTRING (25497337.003 6672718.985, 25497342...</td>\n",
       "    </tr>\n",
       "    <tr>\n",
       "      <td>8</td>\n",
       "      <td>klinj_suojatie.16945</td>\n",
       "      <td>None</td>\n",
       "      <td>Suojatie</td>\n",
       "      <td>Suojatiet</td>\n",
       "      <td>12</td>\n",
       "      <td>400040</td>\n",
       "      <td>LINESTRING (25497080.546 6673181.265, 25497072...</td>\n",
       "    </tr>\n",
       "    <tr>\n",
       "      <td>9</td>\n",
       "      <td>klinj_suojatie.16946</td>\n",
       "      <td>None</td>\n",
       "      <td>Suojatie</td>\n",
       "      <td>Suojatiet</td>\n",
       "      <td>12</td>\n",
       "      <td>400040</td>\n",
       "      <td>LINESTRING (25497102.037 6673239.147, 25497095...</td>\n",
       "    </tr>\n",
       "  </tbody>\n",
       "</table>\n",
       "</div>"
      ],
      "text/plain": [
       "                 gml_id    id vaylatyyppi     luokka  featurecode html_color  \\\n",
       "0  klinj_suojatie.16704  None    Suojatie  Suojatiet           12     400040   \n",
       "1  klinj_suojatie.16713  None    Suojatie  Suojatiet           12     400040   \n",
       "2  klinj_suojatie.16741  None    Suojatie  Suojatiet           12     400040   \n",
       "3  klinj_suojatie.16908  None    Suojatie  Suojatiet           12     400040   \n",
       "4  klinj_suojatie.16910  None    Suojatie  Suojatiet           12     400040   \n",
       "5  klinj_suojatie.16918  None    Suojatie  Suojatiet           12     400040   \n",
       "6  klinj_suojatie.16927  None    Suojatie  Suojatiet           12     400040   \n",
       "7  klinj_suojatie.16937  None    Suojatie  Suojatiet           12     400040   \n",
       "8  klinj_suojatie.16945  None    Suojatie  Suojatiet           12     400040   \n",
       "9  klinj_suojatie.16946  None    Suojatie  Suojatiet           12     400040   \n",
       "\n",
       "                                            geometry  \n",
       "0  LINESTRING (25497295.968 6672929.268, 25497296...  \n",
       "1  LINESTRING (25497172.202 6673374.486, 25497179...  \n",
       "2  LINESTRING (25497334.310 6672931.001, 25497334...  \n",
       "3  LINESTRING (25497361.189 6672770.811, 25497354...  \n",
       "4  LINESTRING (25497350.873 6672758.490, 25497343...  \n",
       "5  LINESTRING (25497557.692 6672778.966, 25497551...  \n",
       "6  LINESTRING (25497343.618 6672721.533, 25497337...  \n",
       "7  LINESTRING (25497337.003 6672718.985, 25497342...  \n",
       "8  LINESTRING (25497080.546 6673181.265, 25497072...  \n",
       "9  LINESTRING (25497102.037 6673239.147, 25497095...  "
      ]
     },
     "execution_count": 8,
     "metadata": {},
     "output_type": "execute_result"
    }
   ],
   "source": [
    "crossings.head(10)"
   ]
  },
  {
   "cell_type": "code",
   "execution_count": 9,
   "metadata": {},
   "outputs": [
    {
     "data": {
      "text/plain": [
       "'geometry'"
      ]
     },
     "execution_count": 9,
     "metadata": {},
     "output_type": "execute_result"
    }
   ],
   "source": [
    "crossings.geometry.name"
   ]
  },
  {
   "cell_type": "code",
   "execution_count": 10,
   "metadata": {},
   "outputs": [
    {
     "data": {
      "text/plain": [
       "{'init': 'epsg:3879'}"
      ]
     },
     "execution_count": 10,
     "metadata": {},
     "output_type": "execute_result"
    }
   ],
   "source": [
    "crossings.crs"
   ]
  },
  {
   "cell_type": "code",
   "execution_count": 11,
   "metadata": {},
   "outputs": [
    {
     "data": {
      "text/plain": [
       "<matplotlib.axes._subplots.AxesSubplot at 0x7f70dc5ae6d8>"
      ]
     },
     "execution_count": 11,
     "metadata": {},
     "output_type": "execute_result"
    },
    {
     "data": {
      "image/png": "[encoded data removed]",
      "text/plain": [
       "<Figure size 432x288 with 1 Axes>"
      ]
     },
     "metadata": {
      "needs_background": "light"
     },
     "output_type": "display_data"
    }
   ],
   "source": [
    "crossings.to_crs(epsg=4326).plot()  # change crs type "
   ]
  },
  {
   "cell_type": "code",
   "execution_count": 12,
   "metadata": {},
   "outputs": [
    {
     "data": {
      "text/plain": [
       "<matplotlib.axes._subplots.AxesSubplot at 0x7f70dc5296d8>"
      ]
     },
     "execution_count": 12,
     "metadata": {},
     "output_type": "execute_result"
    },
    {
     "data": {
      "image/png": "[encoded data removed]",
      "text/plain": [
       "<Figure size 720x720 with 1 Axes>"
      ]
     },
     "metadata": {
      "needs_background": "light"
     },
     "output_type": "display_data"
    }
   ],
   "source": [
    "crossings['geometry'].plot(figsize=(10,10)) # original crs "
   ]
  },
  {
   "cell_type": "code",
   "execution_count": 13,
   "metadata": {},
   "outputs": [],
   "source": [
    "## xy attriute of geometry object returns the coordinate of geometric shape. In our case, its linestring\n",
    "coordinates = crossings['geometry'].apply(lambda p : p.xy)"
   ]
  },
  {
   "cell_type": "code",
   "execution_count": 14,
   "metadata": {},
   "outputs": [
    {
     "data": {
      "text/plain": [
       "(array('d', [25497295.9682035, 25497296.3567031]),\n",
       " array('d', [6672929.268, 6672912.646]))"
      ]
     },
     "execution_count": 14,
     "metadata": {},
     "output_type": "execute_result"
    }
   ],
   "source": [
    "coordinates[0] "
   ]
  },
  {
   "cell_type": "code",
   "execution_count": 15,
   "metadata": {},
   "outputs": [
    {
     "data": {
      "text/html": [
       "<div>\n",
       "<style scoped>\n",
       "    .dataframe tbody tr th:only-of-type {\n",
       "        vertical-align: middle;\n",
       "    }\n",
       "\n",
       "    .dataframe tbody tr th {\n",
       "        vertical-align: top;\n",
       "    }\n",
       "\n",
       "    .dataframe thead th {\n",
       "        text-align: right;\n",
       "    }\n",
       "</style>\n",
       "<table border=\"1\" class=\"dataframe\">\n",
       "  <thead>\n",
       "    <tr style=\"text-align: right;\">\n",
       "      <th></th>\n",
       "      <th>minx</th>\n",
       "      <th>miny</th>\n",
       "      <th>maxx</th>\n",
       "      <th>maxy</th>\n",
       "    </tr>\n",
       "  </thead>\n",
       "  <tbody>\n",
       "    <tr>\n",
       "      <td>0</td>\n",
       "      <td>2.549730e+07</td>\n",
       "      <td>6672912.646</td>\n",
       "      <td>2.549730e+07</td>\n",
       "      <td>6672929.268</td>\n",
       "    </tr>\n",
       "    <tr>\n",
       "      <td>1</td>\n",
       "      <td>2.549717e+07</td>\n",
       "      <td>6673370.764</td>\n",
       "      <td>2.549718e+07</td>\n",
       "      <td>6673374.486</td>\n",
       "    </tr>\n",
       "    <tr>\n",
       "      <td>2</td>\n",
       "      <td>2.549733e+07</td>\n",
       "      <td>6672914.920</td>\n",
       "      <td>2.549733e+07</td>\n",
       "      <td>6672931.001</td>\n",
       "    </tr>\n",
       "    <tr>\n",
       "      <td>3</td>\n",
       "      <td>2.549735e+07</td>\n",
       "      <td>6672770.811</td>\n",
       "      <td>2.549736e+07</td>\n",
       "      <td>6672776.495</td>\n",
       "    </tr>\n",
       "    <tr>\n",
       "      <td>4</td>\n",
       "      <td>2.549734e+07</td>\n",
       "      <td>6672758.490</td>\n",
       "      <td>2.549735e+07</td>\n",
       "      <td>6672759.135</td>\n",
       "    </tr>\n",
       "  </tbody>\n",
       "</table>\n",
       "</div>"
      ],
      "text/plain": [
       "           minx         miny          maxx         maxy\n",
       "0  2.549730e+07  6672912.646  2.549730e+07  6672929.268\n",
       "1  2.549717e+07  6673370.764  2.549718e+07  6673374.486\n",
       "2  2.549733e+07  6672914.920  2.549733e+07  6672931.001\n",
       "3  2.549735e+07  6672770.811  2.549736e+07  6672776.495\n",
       "4  2.549734e+07  6672758.490  2.549735e+07  6672759.135"
      ]
     },
     "execution_count": 15,
     "metadata": {},
     "output_type": "execute_result"
    }
   ],
   "source": [
    "### we can also get boudingbox using  'bounds' method \n",
    "coordinate_bounds = crossings['geometry'].bounds\n",
    "coordinate_bounds.head()"
   ]
  },
  {
   "cell_type": "markdown",
   "metadata": {},
   "source": [
    "###  Get images "
   ]
  },
  {
   "cell_type": "code",
   "execution_count": 16,
   "metadata": {},
   "outputs": [
    {
     "data": {
      "text/plain": [
       "(1393, 4)"
      ]
     },
     "execution_count": 16,
     "metadata": {},
     "output_type": "execute_result"
    }
   ],
   "source": [
    "coordinate_bounds.shape"
   ]
  },
  {
   "cell_type": "code",
   "execution_count": 17,
   "metadata": {},
   "outputs": [
    {
     "data": {
      "text/plain": [
       "1393"
      ]
     },
     "execution_count": 17,
     "metadata": {},
     "output_type": "execute_result"
    }
   ],
   "source": [
    "coordinate_bounds.shape[0]"
   ]
  },
  {
   "cell_type": "code",
   "execution_count": 18,
   "metadata": {},
   "outputs": [],
   "source": [
    "#!mkdir ./new_images # folder to have all images "
   ]
  },
  {
   "cell_type": "code",
   "execution_count": 19,
   "metadata": {},
   "outputs": [],
   "source": [
    "wms = WebMapService('https://kartta.hel.fi/ws/geoserver/avoindata/wms',version='1.3.0')"
   ]
  },
  {
   "cell_type": "code",
   "execution_count": 45,
   "metadata": {},
   "outputs": [],
   "source": [
    "for i in range(coordinate_bounds.shape[0]):\n",
    "    img = wms.getmap(layers=['avoindata:Ortoilmakuva_2019_5cm'],\n",
    "                         \n",
    "                        srs='EPSG:3879',\n",
    "                        bbox=coordinate_bounds.iloc[i], #Value is minx,miny,maxx,maxy in units of the SRS.\n",
    "                        size=(50, 50),\n",
    "                       format='image/png',\n",
    "                     transparent = True\n",
    "                         )\n",
    "    out = open('../autoencoders/fifty_reso_data/'+str(i)+'.png', 'wb')\n",
    "    out.write(img.read())\n",
    "    out.close()\n",
    "\n",
    "    #image = io.BytesIO(img.read())\n",
    "    #data = plt.imread(image)\n",
    "    #img = io.BytesIO(img)\n",
    "    #im_array = np.array(img, dtype='uint8')\n",
    "    #im_array = im_array / 255.0\n",
    "    #X[i] = data\n",
    "    \n",
    "    "
   ]
  },
  {
   "cell_type": "code",
   "execution_count": 44,
   "metadata": {},
   "outputs": [],
   "source": []
  },
  {
   "cell_type": "code",
   "execution_count": null,
   "metadata": {},
   "outputs": [],
   "source": []
  },
  {
   "cell_type": "code",
   "execution_count": null,
   "metadata": {},
   "outputs": [],
   "source": []
  },
  {
   "cell_type": "code",
   "execution_count": null,
   "metadata": {},
   "outputs": [],
   "source": []
  },
  {
   "cell_type": "code",
   "execution_count": null,
   "metadata": {},
   "outputs": [],
   "source": []
  },
  {
   "cell_type": "code",
   "execution_count": null,
   "metadata": {},
   "outputs": [],
   "source": []
  }
 ],
 "metadata": {
  "kernelspec": {
   "display_name": "Python 3",
   "language": "python",
   "name": "python3"
  },
  "language_info": {
   "codemirror_mode": {
    "name": "ipython",
    "version": 3
   },
   "file_extension": ".py",
   "mimetype": "text/x-python",
   "name": "python",
   "nbconvert_exporter": "python",
   "pygments_lexer": "ipython3",
   "version": "3.7.3"
  },
  "toc": {
   "base_numbering": 1,
   "nav_menu": {},
   "number_sections": false,
   "sideBar": true,
   "skip_h1_title": false,
   "title_cell": "Table of Contents",
   "title_sidebar": "Contents",
   "toc_cell": false,
   "toc_position": {},
   "toc_section_display": true,
   "toc_window_display": false
  },
  "varInspector": {
   "cols": {
    "lenName": 16,
    "lenType": 16,
    "lenVar": 40
   },
   "kernels_config": {
    "python": {
     "delete_cmd_postfix": "",
     "delete_cmd_prefix": "del ",
     "library": "var_list.py",
     "varRefreshCmd": "print(var_dic_list())"
    },
    "r": {
     "delete_cmd_postfix": ") ",
     "delete_cmd_prefix": "rm(",
     "library": "var_list.r",
     "varRefreshCmd": "cat(var_dic_list()) "
    }
   },
   "types_to_exclude": [
    "module",
    "function",
    "builtin_function_or_method",
    "instance",
    "_Feature"
   ],
   "window_display": false
  }
 },
 "nbformat": 4,
 "nbformat_minor": 2
}
