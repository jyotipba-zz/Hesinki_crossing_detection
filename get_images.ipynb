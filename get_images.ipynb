{
 "cells": [
  {
   "cell_type": "code",
   "execution_count": 1,
   "metadata": {},
   "outputs": [],
   "source": [
    "from owslib.wms import WebMapService\n",
    "import matplotlib.pyplot as plt\n",
    "import numpy as np\n",
    "import pandas as pd\n",
    "%matplotlib inline"
   ]
  },
  {
   "cell_type": "code",
   "execution_count": 2,
   "metadata": {},
   "outputs": [],
   "source": [
    "wms = WebMapService('https://kartta.hel.fi/ws/geoserver/avoindata/wms',version='1.3.0')"
   ]
  },
  {
   "cell_type": "code",
   "execution_count": 3,
   "metadata": {},
   "outputs": [
    {
     "data": {
      "text/plain": [
       "'WMS'"
      ]
     },
     "execution_count": 3,
     "metadata": {},
     "output_type": "execute_result"
    }
   ],
   "source": [
    "wms.identification.type"
   ]
  },
  {
   "cell_type": "code",
   "execution_count": 4,
   "metadata": {},
   "outputs": [
    {
     "data": {
      "text/plain": [
       "'1.3.0'"
      ]
     },
     "execution_count": 4,
     "metadata": {},
     "output_type": "execute_result"
    }
   ],
   "source": [
    "wms.identification.version"
   ]
  },
  {
   "cell_type": "code",
   "execution_count": 5,
   "metadata": {},
   "outputs": [
    {
     "data": {
      "text/plain": [
       "['GetCapabilities', 'GetMap', 'GetFeatureInfo']"
      ]
     },
     "execution_count": 5,
     "metadata": {},
     "output_type": "execute_result"
    }
   ],
   "source": [
    "[op.name for op in wms.operations]"
   ]
  },
  {
   "cell_type": "code",
   "execution_count": 6,
   "metadata": {},
   "outputs": [
    {
     "data": {
      "text/plain": [
       "'Helsinki_WMS'"
      ]
     },
     "execution_count": 6,
     "metadata": {},
     "output_type": "execute_result"
    }
   ],
   "source": [
    "wms.identification.title"
   ]
  },
  {
   "cell_type": "code",
   "execution_count": 7,
   "metadata": {},
   "outputs": [
    {
     "data": {
      "text/plain": [
       "'Helsingin kaupunkimittauspalvelujen WMS-rajapintapalvelu kansalais- ja asiakaskäyttäjille. A Helsinki City survey division WMS api-service for clients and citizens'"
      ]
     },
     "execution_count": 7,
     "metadata": {},
     "output_type": "execute_result"
    }
   ],
   "source": [
    "wms.identification.abstract"
   ]
  },
  {
   "cell_type": "code",
   "execution_count": 8,
   "metadata": {},
   "outputs": [
    {
     "data": {
      "text/plain": [
       "['image/png',\n",
       " 'application/atom+xml',\n",
       " 'application/json;type=geojson',\n",
       " 'application/json;type=topojson',\n",
       " 'application/json;type=utfgrid',\n",
       " 'application/pdf',\n",
       " 'application/rss+xml',\n",
       " 'application/vnd.google-earth.kml+xml',\n",
       " 'application/vnd.google-earth.kml+xml;mode=networklink',\n",
       " 'application/vnd.google-earth.kmz',\n",
       " 'application/vnd.mapbox-vector-tile',\n",
       " 'image/geotiff',\n",
       " 'image/geotiff8',\n",
       " 'image/gif',\n",
       " 'image/jpeg',\n",
       " 'image/png; mode=8bit',\n",
       " 'image/svg+xml',\n",
       " 'image/tiff',\n",
       " 'image/tiff8',\n",
       " 'image/vnd.jpeg-png',\n",
       " 'image/vnd.jpeg-png8',\n",
       " 'text/html; subtype=openlayers',\n",
       " 'text/html; subtype=openlayers2',\n",
       " 'text/html; subtype=openlayers3']"
      ]
     },
     "execution_count": 8,
     "metadata": {},
     "output_type": "execute_result"
    }
   ],
   "source": [
    "##  see different formation we can get image \n",
    "wms.getOperationByName('GetMap').formatOptions"
   ]
  },
  {
   "cell_type": "code",
   "execution_count": 9,
   "metadata": {},
   "outputs": [
    {
     "data": {
      "text/plain": [
       "[{'type': 'Get',\n",
       "  'url': 'https://kartta.hel.fi/ws/geoserver/avoindata/ows?SERVICE=WMS&'}]"
      ]
     },
     "execution_count": 9,
     "metadata": {},
     "output_type": "execute_result"
    }
   ],
   "source": [
    "wms.getOperationByName('GetMap').methods"
   ]
  },
  {
   "cell_type": "code",
   "execution_count": 10,
   "metadata": {},
   "outputs": [
    {
     "data": {
      "text/plain": [
       "['avoindata:Kantakartta',\n",
       " 'avoindata:Kantakartta_harmaa',\n",
       " 'avoindata:Kantakartta_varillinen',\n",
       " 'avoindata:Kantakartta_rajat',\n",
       " 'avoindata:Kantakartta_valkoinen',\n",
       " 'avoindata:Kantakartan_maastotiedot',\n",
       " 'avoindata:Kantakartta_pohja',\n",
       " 'avoindata:Kantakartta_paakohteet',\n",
       " 'avoindata:Karttasarja',\n",
       " 'avoindata:Karttasarja_harmaa',\n",
       " 'avoindata:Kiinteistokartta',\n",
       " 'avoindata:Kiinteistokartan_maastotiedot',\n",
       " 'avoindata:Kiinteistokartta_pohja',\n",
       " 'avoindata:Kiinteistokartta_paakohteet',\n",
       " 'avoindata:Opaskartta_Helsinki',\n",
       " 'avoindata:Opaskartta_Helsinki_harmaa',\n",
       " 'avoindata:Opaskartta_Helsinki_harvanimi',\n",
       " 'avoindata:Opaskartta_Helsinki_harvanimi_harmaa',\n",
       " 'avoindata:Opaskartta_Helsinki_4m',\n",
       " 'avoindata:Opaskartta_Helsinki_4m_harmaa',\n",
       " 'avoindata:Opaskartta_alue',\n",
       " 'avoindata:Opaskartta_alueenviiva',\n",
       " 'avoindata:Opaskartta_muuviiva',\n",
       " 'avoindata:Opaskartta_nimisto',\n",
       " 'avoindata:Opaskartta_harvanimi_nimisto',\n",
       " 'avoindata:Opaskartta_PKS',\n",
       " 'avoindata:Opaskartta_PKS_4m',\n",
       " 'avoindata:Opaskartta_PKS_harmaa',\n",
       " 'avoindata:Opaskartta_PKS_4m_harmaa',\n",
       " 'avoindata:Karttasarja_PKS',\n",
       " 'avoindata:Yleiskartta_PKS_8m',\n",
       " 'avoindata:Yleiskartta_PKS_8m_harmaa',\n",
       " 'avoindata:Yleiskartta_PKS_16m',\n",
       " 'avoindata:Yleiskartta_PKS_16m_harmaa',\n",
       " 'avoindata:Yleiskartta_PKS_32m',\n",
       " 'avoindata:Yleiskartta_PKS_32m_harmaa',\n",
       " 'avoindata:Yleiskartta_PKS_32m_indeksi',\n",
       " 'avoindata:Ortoilmakuva',\n",
       " 'avoindata:Ortoilmakuva_2019_20cm',\n",
       " 'avoindata:Ortoilmakuva_2019_5cm',\n",
       " 'avoindata:Ortoilmakuva_2018_5cm',\n",
       " 'avoindata:Ortoilmakuva_2017_8cm',\n",
       " 'avoindata:TosiOrtoilmakuva_2017_8cm',\n",
       " 'avoindata:Ortoilmakuva_2017_20cm',\n",
       " 'avoindata:Ortoilmakuva_2016',\n",
       " 'avoindata:Ortoilmakuva_2015_20cm',\n",
       " 'avoindata:Ortoilmakuva_2014',\n",
       " 'avoindata:Vaaravariortoilmakuva_2017_20cm',\n",
       " 'avoindata:Vaaravariortoilmakuva_2015_20cm',\n",
       " 'avoindata:Ajantasa_asemakaava',\n",
       " 'avoindata:Ajantasa_asemakaava_maanalainen',\n",
       " 'avoindata:Ajantasa_asemakaava_maanpaallinen',\n",
       " 'avoindata:Ajantasa_asemakaava_maanpaallinen_varillinen',\n",
       " 'avoindata:Rakennuskieltoalue',\n",
       " 'avoindata:Rakennuskieltoalue_asemakaavan_laatimiseksi',\n",
       " 'avoindata:Rakennuskieltoalue_yleiskaavan_laatimiseksi',\n",
       " 'avoindata:Rakennuskieltoalue_tunnus_asemakaavan_laatimiseksi',\n",
       " 'avoindata:Rakennuskieltoalue_tunnus_yleiskaavan_laatimiseksi',\n",
       " 'avoindata:Kaavahakemisto',\n",
       " 'avoindata:Kaavahakemisto_alue_kaava_voimassa',\n",
       " 'avoindata:Kaavahakemisto_alue_kaava_vireilla',\n",
       " 'avoindata:Kaavahakemisto_alue_maanalainenkaava_voimassa',\n",
       " 'avoindata:Kaavahakemisto_alue_maanalainenkaava_vireilla',\n",
       " 'avoindata:Kaavahakemisto_alue_nimenmuutospaatos_voimassa',\n",
       " 'avoindata:Kaavahakemisto_alue_nimenmuutoskaava_voimassa',\n",
       " 'avoindata:Kaavahakemisto_tunnus_kaava_voimassa',\n",
       " 'avoindata:Kaavahakemisto_tunnus_kaava_vireilla',\n",
       " 'avoindata:Kaavahakemisto_tunnus_maanalainenkaava_voimassa',\n",
       " 'avoindata:Kaavahakemisto_tunnus_maanalainenkaava_vireilla',\n",
       " 'avoindata:Kaavahakemisto_tunnus_nimenmuutospaatos_voimassa',\n",
       " 'avoindata:Kaavahakemisto_tunnus_nimenmuutoskaava_voimassa',\n",
       " 'avoindata:Kaavahakemisto_viiteviivat',\n",
       " 'avoindata:Osayleiskaava_10350',\n",
       " 'avoindata:Osayleiskaava_10541',\n",
       " 'avoindata:Osayleiskaava_11350',\n",
       " 'avoindata:Osayleiskaava_11356',\n",
       " 'avoindata:Osayleiskaava_11640',\n",
       " 'avoindata:Osayleiskaava_11650',\n",
       " 'avoindata:Osayleiskaava_11756',\n",
       " 'avoindata:Osayleiskaava_12199',\n",
       " 'avoindata:Yleiskaava_2002',\n",
       " 'avoindata:Yleiskaava_2002_ruotsinkielinen',\n",
       " 'avoindata:Osayleiskaavahakemisto_alue',\n",
       " 'avoindata:Yleiskaava_2016',\n",
       " 'avoindata:Piirijako',\n",
       " 'avoindata:Piirijako_suurpiiri',\n",
       " 'avoindata:Piirijako_peruspiiri',\n",
       " 'avoindata:Piirijako_osaalue',\n",
       " 'avoindata:Piirijako_pienalue',\n",
       " 'avoindata:Opetusvirasto',\n",
       " 'avoindata:Oppilaaksiotto_kuluva_lukuvuosi',\n",
       " 'avoindata:Opev_ooa_alaaste_suomi',\n",
       " 'avoindata:Opev_ooa_ylaaste_suomi',\n",
       " 'avoindata:Opev_ooa_alaaste_ruotsi',\n",
       " 'avoindata:Opev_ooa_ylaaste_ruotsi',\n",
       " 'avoindata:Oppilaaksiotto_tuleva_lukuvuosi',\n",
       " 'avoindata:Opev_ooa_alaaste_suomi_tuleva',\n",
       " 'avoindata:Opev_ooa_ylaaste_suomi_tuleva',\n",
       " 'avoindata:Opev_ooa_alaaste_ruotsi_tuleva',\n",
       " 'avoindata:Opev_ooa_ylaaste_ruotsi_tuleva',\n",
       " 'avoindata:Karttalehtijako_05x05_km',\n",
       " 'avoindata:Karttalehtijako_1x1_km',\n",
       " 'avoindata:Karttalehtijako_2x2_km',\n",
       " 'avoindata:Karttalehtijako_5x5_km',\n",
       " 'avoindata:Halke_aanestysalue',\n",
       " 'avoindata:Halke_aanestysalue_iso',\n",
       " 'avoindata:Kaupunginosajako',\n",
       " 'avoindata:Postinumeroalue',\n",
       " 'avoindata:Kiinteistot',\n",
       " 'avoindata:Kiinteisto_alue',\n",
       " 'avoindata:Kiinteisto_tunnus',\n",
       " 'avoindata:Maaraala_alue',\n",
       " 'avoindata:Maaraala_alue_varma_sijainti',\n",
       " 'avoindata:Maaraala_alue_epavarma_sijainti',\n",
       " 'avoindata:Maaraala_alue_arvioitu_sijainti',\n",
       " 'avoindata:Maaraala_tunnus_varma_sijainti',\n",
       " 'avoindata:Maaraala_tunnus_epavarma_sijainti',\n",
       " 'avoindata:Maaraala_tunnus_arvioitu_sijainti',\n",
       " 'avoindata:Rakennukset_alue',\n",
       " 'avoindata:Rakennukset_alue_rekisteritiedot',\n",
       " 'avoindata:Rakennukset_piste_rekisteritiedot',\n",
       " 'avoindata:Rakennustunnus_RATU',\n",
       " 'avoindata:Rakennustunnus_RATU_aloitetut',\n",
       " 'avoindata:Rakennustunnus_RATU_hankkeet',\n",
       " 'avoindata:Rakennustunnus_VTJ_PRT',\n",
       " 'avoindata:Rakennustunnus_VTJ_PRT_aloitetut',\n",
       " 'avoindata:Rakennustunnus_VTJ_PRT_hankkeet',\n",
       " 'avoindata:Helsinki_nimisto',\n",
       " 'avoindata:Helsinki_osoiteluettelo',\n",
       " 'avoindata:Helsinki_osoitteet_rakennukset',\n",
       " 'avoindata:PKS_osoiteluettelo',\n",
       " 'avoindata:Nimisto_piste_rekisteritiedot',\n",
       " 'avoindata:Osoiteluettelo_piste_rekisteritiedot',\n",
       " 'avoindata:Kuvakartta',\n",
       " 'avoindata:Asemakaavakartta_1820',\n",
       " 'avoindata:Asemakaavakartta_1838',\n",
       " 'avoindata:Asemakaavakartta_1878',\n",
       " 'avoindata:Opaskartta_1940',\n",
       " 'avoindata:Opaskartta_1952',\n",
       " 'avoindata:Opaskartta_1962',\n",
       " 'avoindata:Opaskartta_1999',\n",
       " 'avoindata:Meluselvitys_2017_alue_01_tieliikenne_L_Aeq_paiva',\n",
       " 'avoindata:Meluselvitys_2017_alue_02_tieliikenne_L_Aeq_yo',\n",
       " 'avoindata:Meluselvitys_2017_alue_03_maantiet_L_Aeq_paiva',\n",
       " 'avoindata:Meluselvitys_2017_alue_04_maantiet_L_Aeq_yo',\n",
       " 'avoindata:Meluselvitys_2017_alue_05_raitioliikenne_L_Aeq_paiva',\n",
       " 'avoindata:Meluselvitys_2017_alue_06_raitioliikenne_L_Aeq_yo',\n",
       " 'avoindata:Meluselvitys_2017_alue_07_metro_L_Aeq_paiva',\n",
       " 'avoindata:Meluselvitys_2017_alue_08_metro_L_Aeq_yo',\n",
       " 'avoindata:Meluselvitys_2017_alue_09_rautatiet_L_Aeq_paiva',\n",
       " 'avoindata:Meluselvitys_2017_alue_10_rautatiet_L_Aeq_yo',\n",
       " 'avoindata:Meluselvitys_2017_alue_11_tieliikenne_L_den',\n",
       " 'avoindata:Meluselvitys_2017_alue_12_tieliikenne_L_yo',\n",
       " 'avoindata:Meluselvitys_2017_alue_13_maantiet_L_den',\n",
       " 'avoindata:Meluselvitys_2017_alue_14_maantiet_L_yo',\n",
       " 'avoindata:Meluselvitys_2017_alue_15_raitioliikenne_L_den',\n",
       " 'avoindata:Meluselvitys_2017_alue_16_raitioliikenne_L_yo',\n",
       " 'avoindata:Meluselvitys_2017_alue_17_metro_L_den',\n",
       " 'avoindata:Meluselvitys_2017_alue_18_metro_L_yo',\n",
       " 'avoindata:Meluselvitys_2017_alue_19_rautatiet_L_den',\n",
       " 'avoindata:Meluselvitys_2017_alue_20_rautatiet_L_yo',\n",
       " 'avoindata:Meluselvitys_2012_alue_01_tieliikenne_L_Aeq_paiva',\n",
       " 'avoindata:Meluselvitys_2012_alue_02_tieliikenne_L_Aeq_yo',\n",
       " 'avoindata:Meluselvitys_2012_alue_03_maantiet_L_Aeq_paiva',\n",
       " 'avoindata:Meluselvitys_2012_alue_04_maantiet_L_Aeq_yo',\n",
       " 'avoindata:Meluselvitys_2012_alue_05_rautatiet_L_Aeq_paiva',\n",
       " 'avoindata:Meluselvitys_2012_alue_06_rautatiet_L_Aeq_yo',\n",
       " 'avoindata:Meluselvitys_2012_alue_07_tieliikenne_L_den',\n",
       " 'avoindata:Meluselvitys_2012_alue_08_tieliikenne_L_yo',\n",
       " 'avoindata:Meluselvitys_2012_alue_09_maantiet_L_den',\n",
       " 'avoindata:Meluselvitys_2012_alue_10_maantiet_L_yo',\n",
       " 'avoindata:Meluselvitys_2012_alue_11_rautatiet_L_den',\n",
       " 'avoindata:Meluselvitys_2012_alue_12_rautatiet_L_yo',\n",
       " 'avoindata:Meluselvitys_2007_alue_01_tieliikenne_L_Aeq_paiva',\n",
       " 'avoindata:Meluselvitys_2007_alue_02_tieliikenne_L_Aeq_yo',\n",
       " 'avoindata:Meluselvitys_2007_alue_03_tieliikenne_L_den',\n",
       " 'avoindata:Meluselvitys_2007_alue_04_tieliikenne_L_yo',\n",
       " 'avoindata:Meluselvitys_2007_alue_05_raideliikenne_L_den',\n",
       " 'avoindata:Meluselvitys_2007_alue_06_raideliikenne_L_yo',\n",
       " 'avoindata:Yleiskartta_8m',\n",
       " 'avoindata:Yleiskartta_8m_harmaa',\n",
       " 'avoindata:Yleiskartta_16m',\n",
       " 'avoindata:Yleiskartta_16m_harmaa',\n",
       " 'avoindata:Yleiskartta_32m',\n",
       " 'avoindata:Yleiskartta_32m_harmaa',\n",
       " 'avoindata:Yleiskartta_32m_indeksi',\n",
       " 'avoindata:RaideJokeri',\n",
       " 'avoindata:RaideJokeri_ratalinja',\n",
       " 'avoindata:RaideJokeri_pysakit',\n",
       " 'avoindata:Arvoymparistot',\n",
       " 'avoindata:Asukas_ja_yrityspysakointivyohykkeet_alue',\n",
       " 'avoindata:Esteettomyysreitti_viiva',\n",
       " 'avoindata:Kaupunkitilaohjealueet',\n",
       " 'avoindata:liikennemerkkipilotti_liikennemerkit',\n",
       " 'avoindata:liikennemerkkipilotti_pysakointipaikat',\n",
       " 'avoindata:Matkailuliikenne_pysakit_piste',\n",
       " 'avoindata:Matkailuliikenne_pysakointipaikat_piste',\n",
       " 'avoindata:Osavalumaalueet',\n",
       " 'avoindata:Purkupisteet',\n",
       " 'avoindata:Puurekisteri_piste',\n",
       " 'avoindata:Pysakoinnin_maksuvyohykkeet_alue',\n",
       " 'avoindata:Talvihoidon_priorisoitu_reitisto',\n",
       " 'avoindata:Vastuualue_rya_urakkarajat',\n",
       " 'avoindata:Aluevuokraus_alue',\n",
       " 'avoindata:Aluevuokraus_piste',\n",
       " 'avoindata:Kaivuilmoitus_alue',\n",
       " 'avoindata:Kaivuilmoitus_piste',\n",
       " 'avoindata:Lyhyt_maanvuokraus_alue',\n",
       " 'avoindata:Lyhyt_maanvuokraus_piste',\n",
       " 'avoindata:Sijoitussopimus_alue',\n",
       " 'avoindata:Sijoitussopimus_piste',\n",
       " 'avoindata:Tapahtumat_alue',\n",
       " 'avoindata:Tapahtumat_piste',\n",
       " 'avoindata:Tilapainen_liikennejarjestely_alue',\n",
       " 'avoindata:Tilapainen_liikennejarjestely_piste',\n",
       " 'avoindata:Winkki_rents_audiences',\n",
       " 'avoindata:Winkki_works',\n",
       " 'avoindata:YLRE_Katu_ja_viherosat_ajorata_alue',\n",
       " 'avoindata:YLRE_Katu_ja_viherosat_eiliikenne_alue',\n",
       " 'avoindata:YLRE_Katu_ja_viherosat_eiliikenne_piste',\n",
       " 'avoindata:YLRE_Katu_ja_viherosat_eiliikenne_viiva',\n",
       " 'avoindata:YLRE_Katu_ja_viherosat_kevytliikenne_alue',\n",
       " 'avoindata:YLRE_Katualue_alue',\n",
       " 'avoindata:YLRE_Katuosat_alue',\n",
       " 'avoindata:YLRE_Katuosat_piste',\n",
       " 'avoindata:YLRE_Katuosat_viiva',\n",
       " 'avoindata:YLRE_Viheralue_alue',\n",
       " 'avoindata:YLRE_Viherosat_alue',\n",
       " 'avoindata:YLRE_Viherosat_piste',\n",
       " 'avoindata:YLRE_Viherosat_viiva',\n",
       " 'avoindata:Maisemakulttuuri',\n",
       " 'avoindata:Rantareitti_kysely2019',\n",
       " 'avoindata:Seutukartta_aluejako_kuntarajat',\n",
       " 'avoindata:Seutukartta_aluejako_pienalue',\n",
       " 'avoindata:Seutukartta_aluejako_suuralue',\n",
       " 'avoindata:Seutukartta_aluejako_tilastoalue',\n",
       " 'avoindata:Seutukartta_aluejako_helsinki_peruspiirijako',\n",
       " 'avoindata:Seutukartta_aluejako_helsinki_osaalue',\n",
       " 'avoindata:Seutukartta_liikenne_juna_rata',\n",
       " 'avoindata:Seutukartta_liikenne_juna_asema',\n",
       " 'avoindata:Seutukartta_liikenne_lentoasemat',\n",
       " 'avoindata:Seutukartta_liikenne_metroasemat',\n",
       " 'avoindata:Seutukartta_liikenne_metro_rata',\n",
       " 'avoindata:Seutukartta_liikenne_paatiet',\n",
       " 'avoindata:Seutukartta_liikenne_tiesto',\n",
       " 'avoindata:Seutukartta_maankaytto_rakennetut_alueet',\n",
       " 'avoindata:Seutukartta_maankaytto_jarvet',\n",
       " 'avoindata:Seutukartta_maankaytto_joet',\n",
       " 'avoindata:Seutukartta_maankaytto_merialue',\n",
       " 'avoindata:Seutukartta_meren_rantaviiva',\n",
       " 'avoindata:Seutukartta_maankaytto_teollisuusalueet',\n",
       " 'avoindata:Seutukartta_maankaytto_viheralueet',\n",
       " 'avoindata:Seutukartta_maankaytto_ja_vesistot',\n",
       " 'avoindata:Seutukartta_nimisto_kaupunginosanimet_ruotsi',\n",
       " 'avoindata:Seutukartta_nimisto_kaupunginosanimet_suomi',\n",
       " 'avoindata:Seutukartta_nimisto_merialue_ruotsi',\n",
       " 'avoindata:Seutukartta_nimisto_merialue_suomi',\n",
       " 'avoindata:Seutukartta_nimisto_paikannimet_ruotsi',\n",
       " 'avoindata:Seutukartta_nimisto_paikannimet_suomi',\n",
       " 'avoindata:Seutukartta_yhdistetty_liikennevaylat',\n",
       " 'avoindata:Seutukartta_yhdistetty_maankaytto_tiesto',\n",
       " 'avoindata:Seutukartta_yhdistetty_maankaytto',\n",
       " 'avoindata:Seutukartta_yhdistetty_pienalueet',\n",
       " 'avoindata:Seutukartta_yhdistetty_suuralueet',\n",
       " 'avoindata:Seutukartta_yhdistetty_tilastoalueet',\n",
       " 'avoindata:FMI_Suurin_arvioitu_merkitseva_aallonkorkeus_piste',\n",
       " 'avoindata:FMI_Turvalliset_rakentamiskorkeudet_piste',\n",
       " 'avoindata:Helsingin_kaupungin_rakennushankkeet_2018',\n",
       " 'avoindata:Helsingin_kaupungin_rakennushankkeet_2019',\n",
       " 'avoindata:Toimipisterekisteri_palvelut',\n",
       " 'avoindata:Toimipisterekisteri_yksikot',\n",
       " 'avoindata:asemakaava',\n",
       " 'avoindata:korttelialue',\n",
       " 'avoindata:tontti',\n",
       " 'avoindata:yleinen_tai_muu_alue',\n",
       " 'avoindata:ymparistoalue',\n",
       " 'avoindata:rakennusala',\n",
       " 'avoindata:kaavamaarays',\n",
       " 'avoindata:yleiskaava_ruudut']"
      ]
     },
     "execution_count": 10,
     "metadata": {},
     "output_type": "execute_result"
    }
   ],
   "source": [
    "## Layers\n",
    "list(wms.contents)"
   ]
  },
  {
   "cell_type": "code",
   "execution_count": null,
   "metadata": {},
   "outputs": [],
   "source": []
  },
  {
   "cell_type": "code",
   "execution_count": 11,
   "metadata": {},
   "outputs": [
    {
     "data": {
      "text/plain": [
       "<owslib.map.wms130.ContentMetadata at 0x7efce6dba860>"
      ]
     },
     "execution_count": 11,
     "metadata": {},
     "output_type": "execute_result"
    }
   ],
   "source": [
    "wms['avoindata:Ortoilmakuva_2019_5cm']"
   ]
  },
  {
   "cell_type": "code",
   "execution_count": 12,
   "metadata": {},
   "outputs": [],
   "source": [
    "#wms.getOperationByName('GetMap').formatOptions"
   ]
  },
  {
   "cell_type": "code",
   "execution_count": 13,
   "metadata": {},
   "outputs": [],
   "source": [
    "layer = wms['avoindata:Ortoilmakuva_2019_5cm']"
   ]
  },
  {
   "cell_type": "code",
   "execution_count": null,
   "metadata": {},
   "outputs": [],
   "source": []
  },
  {
   "cell_type": "code",
   "execution_count": 14,
   "metadata": {},
   "outputs": [
    {
     "name": "stdout",
     "output_type": "stream",
     "text": [
      "Abstract:  None\n",
      "BBox:  (24.764732945863038, 60.0080107531311, 25.289558715996222, 60.322459856333225)\n",
      "CRS:  ['EPSG:3048', 'EPSG:3880', 'EPSG:3873', 'EPSG:2393', 'CRS:84', 'EPSG:3386', 'EPSG:3875', 'EPSG:3883', 'EPSG:2391', 'EPSG:3874', 'EPSG:3387', 'EPSG:4258', 'EPSG:3879', 'EPSG:3046', 'EPSG:3881', 'EPSG:3882', 'EPSG:3878', 'EPSG:3857', 'EPSG:3067', 'EPSG:4326', 'EPSG:3876', 'EPSG:3885', 'EPSG:4123', 'EPSG:2392', 'EPSG:2394', 'EPSG:3047', 'EPSG:3877', 'EPSG:3884']\n",
      "Styles:  {'rasteri': {'title': 'rasteri', 'legend': 'https://kartta.hel.fi/ws/geoserver/avoindata/ows?service=WMS&request=GetLegendGraphic&format=image%2Fpng&width=20&height=20&layer=avoindata%3AOrtoilmakuva_2019_5cm', 'legend_width': '20', 'legend_height': '20', 'legend_format': 'image/png'}}\n",
      "Timestamps:  None\n"
     ]
    }
   ],
   "source": [
    "print(\"Abstract: \", layer.abstract)\n",
    "print(\"BBox: \", layer.boundingBoxWGS84)\n",
    "print(\"CRS: \", layer.crsOptions)\n",
    "print(\"Styles: \", layer.styles)\n",
    "print(\"Timestamps: \", layer.timepositions)\n",
    "#HTML(layer.parent.abstract)"
   ]
  },
  {
   "cell_type": "code",
   "execution_count": 16,
   "metadata": {},
   "outputs": [
    {
     "name": "stdout",
     "output_type": "stream",
     "text": [
      "Styles:  {'rasteri': {'title': 'rasteri', 'legend': 'https://kartta.hel.fi/ws/geoserver/avoindata/ows?service=WMS&request=GetLegendGraphic&format=image%2Fpng&width=20&height=20&layer=avoindata%3AOrtoilmakuva_2019_5cm', 'legend_width': '20', 'legend_height': '20', 'legend_format': 'image/png'}}\n"
     ]
    }
   ],
   "source": [
    "print(\"Styles: \", layer.styles)"
   ]
  },
  {
   "cell_type": "code",
   "execution_count": null,
   "metadata": {},
   "outputs": [],
   "source": [
    "csr = layer.crsOptions\n",
    "for c in ['EPSG:4123']:\n",
    "    print(c)\n",
    "    img = wms.getmap(layers=['yleinen_tai_muu_alue',],\n",
    "                         \n",
    "                        srs=c,\n",
    "                        bbox=(24.764732945863038, 59.90927898645569, 25.289558715996222, 60.322459856333225),\n",
    "                        size=(5000, 5000),\n",
    "                    # height=1000,\n",
    "                     #width = 1000,\n",
    "                        format='image/png',\n",
    "                     transparent = True\n",
    "                         )\n",
    "    out = open(c+'.png', 'wb')\n",
    "    out.write(img.read())\n",
    "    out.close()"
   ]
  },
  {
   "cell_type": "code",
   "execution_count": null,
   "metadata": {},
   "outputs": [],
   "source": []
  },
  {
   "cell_type": "markdown",
   "metadata": {},
   "source": [
    "#### Parsing xml "
   ]
  },
  {
   "cell_type": "code",
   "execution_count": 2,
   "metadata": {},
   "outputs": [],
   "source": [
    "import requests\n",
    "from xml.etree import ElementTree as et\n",
    "from bs4 import BeautifulSoup"
   ]
  },
  {
   "cell_type": "code",
   "execution_count": 3,
   "metadata": {},
   "outputs": [],
   "source": [
    "url = 'https://kartta.hel.fi/ws/geoserver/avoindata/wms?request=getCapabilities'\n",
    "response = requests.get(url)"
   ]
  },
  {
   "cell_type": "code",
   "execution_count": 4,
   "metadata": {},
   "outputs": [],
   "source": [
    "soup =  BeautifulSoup(response.content, 'lxml')"
   ]
  },
  {
   "cell_type": "code",
   "execution_count": 5,
   "metadata": {},
   "outputs": [],
   "source": [
    "layers = soup.find_all('layer')"
   ]
  },
  {
   "cell_type": "code",
   "execution_count": 6,
   "metadata": {},
   "outputs": [],
   "source": [
    "for layer in layers:\n",
    "    if (layer.title.text)=='Ortoilmakuva_2019_5cm':\n",
    "        ex_geographicBoundingBox_data = layer.findChildren('ex_geographicboundingbox',recursive=False)\n",
    "        boundingBox_data = layer.findChildren('boundingbox',recursive=False)\n",
    "        #'ex_geographicboundingbox',\n",
    "        break"
   ]
  },
  {
   "cell_type": "code",
   "execution_count": 8,
   "metadata": {},
   "outputs": [
    {
     "data": {
      "text/plain": [
       "<ex_geographicboundingbox>\n",
       "<westboundlongitude>24.764732945863038</westboundlongitude>\n",
       "<eastboundlongitude>25.289558715996222</eastboundlongitude>\n",
       "<southboundlatitude>60.0080107531311</southboundlatitude>\n",
       "<northboundlatitude>60.322459856333225</northboundlatitude>\n",
       "</ex_geographicboundingbox>"
      ]
     },
     "execution_count": 8,
     "metadata": {},
     "output_type": "execute_result"
    }
   ],
   "source": [
    "#boundingBox_data\n",
    "ex_geographicBoundingBox_data[0]"
   ]
  },
  {
   "cell_type": "code",
   "execution_count": 9,
   "metadata": {},
   "outputs": [
    {
     "data": {
      "text/plain": [
       "['24.764732945863038',\n",
       " '25.289558715996222',\n",
       " '60.0080107531311',\n",
       " '60.322459856333225']"
      ]
     },
     "execution_count": 9,
     "metadata": {},
     "output_type": "execute_result"
    }
   ],
   "source": [
    "ex_geographicBoundingBox_data = ex_geographicBoundingBox_data[0].text.split()\n",
    "## format westboundlongitude,eastboundlongitude, southboundlatitude,northboundlatitude"
   ]
  },
  {
   "cell_type": "code",
   "execution_count": 83,
   "metadata": {},
   "outputs": [],
   "source": [
    "### get all the epsg and related with boudingbox\n",
    "csr = []\n",
    "bounding = []\n",
    "for data in boundingBox_data:\n",
    "    data = list(data.attrs.values())\n",
    "    csr.append(data[0])\n",
    "    bounding.append(list(map(float, data[1:])))"
   ]
  },
  {
   "cell_type": "code",
   "execution_count": null,
   "metadata": {},
   "outputs": [],
   "source": []
  },
  {
   "cell_type": "code",
   "execution_count": 99,
   "metadata": {},
   "outputs": [],
   "source": [
    "## Get images \n",
    "for i in range(len(csr)):\n",
    "    img = wms.getmap(layers=['avoindata:Ortoilmakuva_2019_5cm'],\n",
    "                      \n",
    "                        srs=csr[i],\n",
    "                        bbox=bounding[i], #Value is minx,miny,maxx,maxy in units of the SRS.\n",
    "                        size=(5000, 5000),\n",
    "                      format='image/png',\n",
    "                     transparent = True\n",
    "                    )\n",
    "    out = open(csr[i]+'.png', 'wb')\n",
    "    out.write(img.read())\n",
    "    out.close()\n",
    "   "
   ]
  },
  {
   "cell_type": "code",
   "execution_count": 95,
   "metadata": {},
   "outputs": [],
   "source": [
    "# the 'img' is a ResponseWrapper object. So, we need read its content to get the actual bytes for the png file. \n",
    "#To avoid writing the data to disk, \n",
    "#we’ll mimic a file object in memory using the io.BytesIO function.\n",
    " #image = io.BytesIO(img.read())\n",
    "  #  data = plt.imread(image)\n",
    "   # plt.imshow(data)\n"
   ]
  },
  {
   "cell_type": "code",
   "execution_count": 37,
   "metadata": {},
   "outputs": [
    {
     "data": {
      "text/plain": [
       "<matplotlib.image.AxesImage at 0x7efcb4409400>"
      ]
     },
     "execution_count": 37,
     "metadata": {},
     "output_type": "execute_result"
    },
    {
     "data": {
      "image/png": "[encoded data removed]",
      "text/plain": [
       "<Figure size 432x288 with 1 Axes>"
      ]
     },
     "metadata": {
      "needs_background": "light"
     },
     "output_type": "display_data"
    }
   ],
   "source": [
    "image = io.BytesIO(img.read())\n",
    "data = plt.imread(image)\n",
    "plt.imshow(data)"
   ]
  },
  {
   "cell_type": "code",
   "execution_count": 23,
   "metadata": {},
   "outputs": [],
   "source": []
  },
  {
   "cell_type": "code",
   "execution_count": null,
   "metadata": {},
   "outputs": [],
   "source": []
  },
  {
   "cell_type": "code",
   "execution_count": null,
   "metadata": {},
   "outputs": [],
   "source": []
  },
  {
   "cell_type": "code",
   "execution_count": null,
   "metadata": {},
   "outputs": [],
   "source": []
  },
  {
   "cell_type": "code",
   "execution_count": null,
   "metadata": {},
   "outputs": [],
   "source": []
  }
 ],
 "metadata": {
  "kernelspec": {
   "display_name": "Python 3",
   "language": "python",
   "name": "python3"
  },
  "language_info": {
   "codemirror_mode": {
    "name": "ipython",
    "version": 3
   },
   "file_extension": ".py",
   "mimetype": "text/x-python",
   "name": "python",
   "nbconvert_exporter": "python",
   "pygments_lexer": "ipython3",
   "version": "3.7.3"
  },
  "toc": {
   "base_numbering": 1,
   "nav_menu": {},
   "number_sections": true,
   "sideBar": true,
   "skip_h1_title": false,
   "title_cell": "Table of Contents",
   "title_sidebar": "Contents",
   "toc_cell": false,
   "toc_position": {},
   "toc_section_display": true,
   "toc_window_display": false
  },
  "varInspector": {
   "cols": {
    "lenName": 16,
    "lenType": 16,
    "lenVar": 40
   },
   "kernels_config": {
    "python": {
     "delete_cmd_postfix": "",
     "delete_cmd_prefix": "del ",
     "library": "var_list.py",
     "varRefreshCmd": "print(var_dic_list())"
    },
    "r": {
     "delete_cmd_postfix": ") ",
     "delete_cmd_prefix": "rm(",
     "library": "var_list.r",
     "varRefreshCmd": "cat(var_dic_list()) "
    }
   },
   "types_to_exclude": [
    "module",
    "function",
    "builtin_function_or_method",
    "instance",
    "_Feature"
   ],
   "window_display": false
  }
 },
 "nbformat": 4,
 "nbformat_minor": 2
}
